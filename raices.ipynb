{
 "cells": [
  {
   "cell_type": "code",
   "execution_count": 3,
   "metadata": {
    "collapsed": false
   },
   "outputs": [],
   "source": [
    "from pylab import *\n",
    "%matplotlib inline"
   ]
  },
  {
   "cell_type": "code",
   "execution_count": 80,
   "metadata": {
    "collapsed": true
   },
   "outputs": [],
   "source": [
    "def raiz_bip(func,x_i,x_d,err=1e-5):\n",
    "    raiz = 0.5*(x_i+x_d)\n",
    "    y_i,y_d = func(x_i),func(x_d)\n",
    "    n = 0\n",
    "    while abs(raiz-x_d) >=err and abs(y_i-y_d) >=err:\n",
    "        y_m=func(raiz)\n",
    "        if y_m == 0.:\n",
    "            print \"end\"\n",
    "            break\n",
    "        if y_m*y_i<0:\n",
    "            x_d=raiz\n",
    "        else:\n",
    "            x_i=raiz\n",
    "        raiz=0.5*(x_i+x_d)\n",
    "        y_i,y_d=func(x_i),func(x_d)\n",
    "        n += 1\n",
    "        print n,\"\\t\",raiz\n",
    "    return raiz"
   ]
  },
  {
   "cell_type": "code",
   "execution_count": 81,
   "metadata": {
    "collapsed": true
   },
   "outputs": [],
   "source": [
    "def mi_newton_1(func,d_func,x_ini,err=1e-8):\n",
    "    n=0\n",
    "    while abs(func(x_ini)) >= err:\n",
    "        print n,\"\\t\",x_ini\n",
    "        raiz = x_ini - func(x_ini)/d_func(x_ini)\n",
    "        x_ini = raiz\n",
    "        n += 1\n",
    "    return raiz"
   ]
  },
  {
   "cell_type": "code",
   "execution_count": 85,
   "metadata": {
    "collapsed": true
   },
   "outputs": [],
   "source": [
    "def num_dev(f,x,h=0.0001):\n",
    "    return (f(x+h)-f(x-h))/(2.*h)"
   ]
  },
  {
   "cell_type": "code",
   "execution_count": 86,
   "metadata": {
    "collapsed": true
   },
   "outputs": [],
   "source": [
    "def mi_newton_2(func,x_ini,err=1e-8):\n",
    "    n=0\n",
    "    while abs(func(x_ini)) >= err:\n",
    "        print n,\"\\t\",x_ini\n",
    "        raiz = x_ini - func(x_ini)/num_dev(func,x_ini)\n",
    "        x_ini = raiz\n",
    "        n += 1\n",
    "    return raiz"
   ]
  },
  {
   "cell_type": "code",
   "execution_count": 88,
   "metadata": {
    "collapsed": true
   },
   "outputs": [],
   "source": [
    "def num_dev_2(f,x,h=2e-4):\n",
    "    return (-f(x+2*h)+8*f(x+h)-8*f(x-h)+f(x-2*h))/(12.*h)"
   ]
  },
  {
   "cell_type": "code",
   "execution_count": 47,
   "metadata": {
    "collapsed": false
   },
   "outputs": [
    {
     "data": {
      "image/png": "[encoded data removed]",
      "text/plain": [
       "<matplotlib.figure.Figure at 0xaae6156c>"
      ]
     },
     "metadata": {},
     "output_type": "display_data"
    }
   ],
   "source": [
    "x=linspace(0,8)\n",
    "plot(x,sin(x))\n",
    "grid(True)\n",
    "show()"
   ]
  },
  {
   "cell_type": "code",
   "execution_count": 48,
   "metadata": {
    "collapsed": false
   },
   "outputs": [
    {
     "name": "stdout",
     "output_type": "stream",
     "text": [
      "1 \t3.25\n",
      "2 \t3.125\n",
      "3 \t3.1875\n",
      "4 \t3.15625\n",
      "5 \t3.140625\n",
      "6 \t3.1484375\n",
      "7 \t3.14453125\n",
      "8 \t3.142578125\n",
      "9 \t3.1416015625\n",
      "10 \t3.14111328125\n",
      "11 \t3.14135742188\n",
      "12 \t3.14147949219\n",
      "13 \t3.14154052734\n",
      "14 \t3.14157104492\n",
      "15 \t3.14158630371\n",
      "16 \t3.14159393311\n",
      "17 \t3.14159011841\n",
      "18 \t3.14159202576\n",
      "19 \t3.14159297943\n",
      "20 \t3.14159250259\n",
      "21 \t3.14159274101\n",
      "22 \t3.1415926218\n",
      "23 \t3.14159268141\n",
      "24 \t3.14159265161\n",
      "25 \t3.14159266651\n",
      "26 \t3.14159265906\n",
      "27 \t3.14159265533\n",
      "28 \t3.14159265347\n",
      "29 \t3.1415926544\n",
      "30 \t3.14159265393\n",
      "31 \t3.1415926537\n",
      "32 \t3.14159265358\n",
      "33 \t3.14159265364\n",
      "34 \t3.14159265361\n",
      "35 \t3.1415926536\n",
      "36 \t3.14159265359\n",
      "37 \t3.14159265359\n",
      "38 \t3.14159265359\n",
      "39 \t3.14159265359\n",
      "3.14159265359\n",
      "pi:  3.14159265359\n"
     ]
    }
   ],
   "source": [
    "print raiz_bip(sin,3,4,1e-12)\n",
    "print \"pi: \",pi"
   ]
  },
  {
   "cell_type": "code",
   "execution_count": 49,
   "metadata": {
    "collapsed": false
   },
   "outputs": [
    {
     "name": "stdout",
     "output_type": "stream",
     "text": [
      "0 \t2\n",
      "1 \t4.18503986326\n",
      "2 \t2.46789367451\n",
      "3 \t3.26618627757\n",
      "4 \t3.14094391232\n",
      "3.14159265368\n"
     ]
    }
   ],
   "source": [
    "print mi_newton_1(sin,cos,2)"
   ]
  },
  {
   "cell_type": "code",
   "execution_count": 50,
   "metadata": {
    "collapsed": true
   },
   "outputs": [],
   "source": [
    "def u_f(x):\n",
    "    return (x-1)**5"
   ]
  },
  {
   "cell_type": "code",
   "execution_count": 51,
   "metadata": {
    "collapsed": false
   },
   "outputs": [
    {
     "data": {
      "image/png": "[encoded data removed]",
      "text/plain": [
       "<matplotlib.figure.Figure at 0xaad2682c>"
      ]
     },
     "metadata": {},
     "output_type": "display_data"
    }
   ],
   "source": [
    "x=linspace(0,2)\n",
    "plot(x,u_f(x))\n",
    "show()"
   ]
  },
  {
   "cell_type": "code",
   "execution_count": 52,
   "metadata": {
    "collapsed": false
   },
   "outputs": [
    {
     "name": "stdout",
     "output_type": "stream",
     "text": [
      "La raiz es:  end\n",
      "1.0\n"
     ]
    }
   ],
   "source": [
    "print \"La raiz es: \",raiz_bip(u_f,0,2)\n"
   ]
  },
  {
   "cell_type": "code",
   "execution_count": 53,
   "metadata": {
    "collapsed": true
   },
   "outputs": [],
   "source": [
    "def una_func(x):\n",
    "    return (x-1)**5\n",
    "\n",
    "def d_una_func(x):\n",
    "    return 5*(x-1)**4"
   ]
  },
  {
   "cell_type": "code",
   "execution_count": 54,
   "metadata": {
    "collapsed": false
   },
   "outputs": [
    {
     "name": "stdout",
     "output_type": "stream",
     "text": [
      "0 \t0.1\n",
      "1 \t0.28\n",
      "2 \t0.424\n",
      "3 \t0.5392\n",
      "4 \t0.63136\n",
      "5 \t0.705088\n",
      "6 \t0.7640704\n",
      "7 \t0.81125632\n",
      "8 \t0.849005056\n",
      "9 \t0.8792040448\n",
      "10 \t0.90336323584\n",
      "11 \t0.922690588672\n",
      "12 \t0.938152470938\n",
      "13 \t0.95052197675\n",
      "14 \t0.9604175814\n",
      "15 \t0.96833406512\n",
      "16 \t0.974667252096\n",
      "0.979733801677\n"
     ]
    }
   ],
   "source": [
    "print mi_newton_1(una_func,d_una_func,.1)"
   ]
  },
  {
   "cell_type": "code",
   "execution_count": 55,
   "metadata": {
    "collapsed": true
   },
   "outputs": [],
   "source": [
    "def fun_all(x):\n",
    "    return x**2 + tan(sqrt(-8*x + pi))**3\n",
    "\n",
    "def d_fun_all(x):\n",
    "    return 2*x - 12*(tan(sqrt(-8*x + pi))**2 + 1)*tan(sqrt(-8*x + pi))**2/sqrt(-8*x + pi)"
   ]
  },
  {
   "cell_type": "code",
   "execution_count": 68,
   "metadata": {
    "collapsed": false
   },
   "outputs": [
    {
     "data": {
      "image/png": "[encoded data removed]",
      "text/plain": [
       "<matplotlib.figure.Figure at 0xaac96e2c>"
      ]
     },
     "metadata": {},
     "output_type": "display_data"
    }
   ],
   "source": [
    "x=linspace(-5,0,100)\n",
    "ylim([-30,30])\n",
    "plot(x,fun_all(x))\n",
    "plot([-2.94267812371],[0],'o')\n",
    "plot([-2.9426781275819383],[0],'+',markersize=20)\n",
    "plot([-0.456490404904],[0],'o')\n",
    "grid(True)\n",
    "show()"
   ]
  },
  {
   "cell_type": "code",
   "execution_count": 59,
   "metadata": {
    "collapsed": false
   },
   "outputs": [
    {
     "name": "stdout",
     "output_type": "stream",
     "text": [
      "1 \t-2.95\n",
      "2 \t-2.925\n",
      "3 \t-2.9375\n",
      "4 \t-2.94375\n",
      "5 \t-2.940625\n",
      "6 \t-2.9421875\n",
      "7 \t-2.94296875\n",
      "8 \t-2.942578125\n",
      "9 \t-2.9427734375\n",
      "10 \t-2.94267578125\n",
      "11 \t-2.94272460938\n",
      "12 \t-2.94270019531\n",
      "13 \t-2.94268798828\n",
      "14 \t-2.94268188477\n",
      "15 \t-2.94267883301\n",
      "16 \t-2.94267730713\n",
      "17 \t-2.94267807007\n",
      "18 \t-2.94267845154\n",
      "19 \t-2.9426782608\n",
      "20 \t-2.94267816544\n",
      "21 \t-2.94267811775\n",
      "22 \t-2.94267814159\n",
      "23 \t-2.94267812967\n",
      "24 \t-2.94267812371\n",
      "-2.94267812371\n"
     ]
    }
   ],
   "source": [
    "print raiz_bip(fun_all,-3,-2.8)"
   ]
  },
  {
   "cell_type": "code",
   "execution_count": 61,
   "metadata": {
    "collapsed": false
   },
   "outputs": [
    {
     "name": "stdout",
     "output_type": "stream",
     "text": [
      "1 \t-0.25\n",
      "2 \t-0.375\n",
      "3 \t-0.4375\n",
      "4 \t-0.46875\n",
      "5 \t-0.453125\n",
      "6 \t-0.4609375\n",
      "7 \t-0.45703125\n",
      "8 \t-0.455078125\n",
      "9 \t-0.4560546875\n",
      "10 \t-0.45654296875\n",
      "11 \t-0.456298828125\n",
      "12 \t-0.456420898438\n",
      "13 \t-0.456481933594\n",
      "14 \t-0.456512451172\n",
      "15 \t-0.456497192383\n",
      "16 \t-0.456489562988\n",
      "17 \t-0.456493377686\n",
      "18 \t-0.456491470337\n",
      "19 \t-0.456490516663\n",
      "20 \t-0.456490039825\n",
      "21 \t-0.456490278244\n",
      "22 \t-0.456490397453\n",
      "23 \t-0.456490457058\n",
      "24 \t-0.456490427256\n",
      "25 \t-0.456490412354\n",
      "26 \t-0.456490404904\n",
      "-0.456490404904\n"
     ]
    }
   ],
   "source": [
    "print raiz_bip(fun_all,-1,0)"
   ]
  },
  {
   "cell_type": "code",
   "execution_count": 63,
   "metadata": {
    "collapsed": false
   },
   "outputs": [
    {
     "name": "stdout",
     "output_type": "stream",
     "text": [
      "0 \t-3\n",
      "1 \t-2.9318062049\n",
      "2 \t-2.94229732506\n",
      "3 \t-2.94267765788\n"
     ]
    },
    {
     "data": {
      "text/plain": [
       "-2.9426781275819383"
      ]
     },
     "execution_count": 63,
     "metadata": {},
     "output_type": "execute_result"
    }
   ],
   "source": [
    "mi_newton_1(fun_all,d_fun_all,-3)"
   ]
  },
  {
   "cell_type": "code",
   "execution_count": 72,
   "metadata": {
    "collapsed": false
   },
   "outputs": [
    {
     "name": "stdout",
     "output_type": "stream",
     "text": [
      "0 \t1.47079632679\n",
      "1 \t-8.49584809646\n",
      "2 \t-9.8337320362\n",
      "3 \t-9.40034377122\n",
      "4 \t-9.42478282458\n",
      "-9.42477796077\n",
      "0 \t1.67079632679\n",
      "1 \t11.6374407501\n",
      "2 \t12.9753246898\n",
      "3 \t12.5419364248\n",
      "4 \t12.5663754782\n",
      "12.5663706144\n"
     ]
    }
   ],
   "source": [
    "print mi_newton_1(sin,cos,(pi/2)-0.1)\n",
    "print mi_newton_1(sin,cos,(pi/2)+0.1)"
   ]
  },
  {
   "cell_type": "code",
   "execution_count": 87,
   "metadata": {
    "collapsed": false
   },
   "outputs": [
    {
     "name": "stdout",
     "output_type": "stream",
     "text": [
      "0 \t1.67079632679\n",
      "1 \t11.6374407667\n",
      "2 \t12.9753246623\n",
      "3 \t12.5419364293\n",
      "4 \t12.5663754782\n",
      "12.5663706144\n",
      "12.5663706144\n"
     ]
    }
   ],
   "source": [
    "print mi_newton_2(sin,pi/2+0.1)\n",
    "print 4*pi"
   ]
  },
  {
   "cell_type": "code",
   "execution_count": 94,
   "metadata": {
    "collapsed": false
   },
   "outputs": [
    {
     "name": "stdout",
     "output_type": "stream",
     "text": [
      "0.923879532511\n",
      "0.923879530972\n",
      "0.923879532511\n"
     ]
    }
   ],
   "source": [
    "a=pi/8\n",
    "print cos(a)\n",
    "print num_dev(sin,a)\n",
    "print num_dev_2(sin,a)"
   ]
  },
  {
   "cell_type": "code",
   "execution_count": null,
   "metadata": {
    "collapsed": true
   },
   "outputs": [],
   "source": []
  }
 ],
 "metadata": {
  "anaconda-cloud": {},
  "kernelspec": {
   "display_name": "Python [Root]",
   "language": "python",
   "name": "Python [Root]"
  },
  "language_info": {
   "codemirror_mode": {
    "name": "ipython",
    "version": 2
   },
   "file_extension": ".py",
   "mimetype": "text/x-python",
   "name": "python",
   "nbconvert_exporter": "python",
   "pygments_lexer": "ipython2",
   "version": "2.7.12"
  }
 },
 "nbformat": 4,
 "nbformat_minor": 0
}
