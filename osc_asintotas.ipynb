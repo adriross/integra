{
 "cells": [
  {
   "cell_type": "code",
   "execution_count": 1,
   "metadata": {
    "collapsed": true
   },
   "outputs": [],
   "source": [
    "from pylab import *\n",
    "from scipy.integrate import *\n",
    "%matplotlib inline"
   ]
  },
  {
   "cell_type": "code",
   "execution_count": 22,
   "metadata": {
    "collapsed": false
   },
   "outputs": [],
   "source": [
    "def osc(y_v,t,omega=1):#y_v son las variables y,v\n",
    "    dy,dv=y_v[1],-omega*y_v[0]-0.01*y_v[1]+0.5*sin(2*t)\n",
    "    return array([dy,dv])"
   ]
  },
  {
   "cell_type": "code",
   "execution_count": 24,
   "metadata": {
    "collapsed": false
   },
   "outputs": [
    {
     "data": {
      "image/png": "[encoded data removed]",
      "text/plain": [
       "<matplotlib.figure.Figure at 0xaab8cdcc>"
      ]
     },
     "metadata": {},
     "output_type": "display_data"
    }
   ],
   "source": [
    "t=linspace(0,10000,10000)\n",
    "ini=array([0.1,0.8])\n",
    "sol=odeint(osc,ini,t)\n",
    "plot(t,sol[:,0],label=\"$y$\")\n",
    "#plot(t,sol[:,1],label=\"$v_y$\")\n",
    "legend()\n",
    "grid(True)\n",
    "show()"
   ]
  },
  {
   "cell_type": "code",
   "execution_count": 4,
   "metadata": {
    "collapsed": false,
    "scrolled": true
   },
   "outputs": [
    {
     "name": "stdout",
     "output_type": "stream",
     "text": [
      "-5.90651376778e-09 [ -9.44439682e-11   9.99999947e-01]\n"
     ]
    }
   ],
   "source": [
    "ind=10\n",
    "ti,pto_i=t[ind],sol[ind]\n",
    "err=1e-5\n",
    "while abs(pto_i[0])>err:\n",
    "    tip1=ti-(pto_i[0]/pto_i[1])\n",
    "    paso=odeint(osc,pto_i,[ti,tip1])\n",
    "    ti,pto_i=tip1,paso[-1]\n",
    "print ti,pto_i"
   ]
  },
  {
   "cell_type": "code",
   "execution_count": 13,
   "metadata": {
    "collapsed": true
   },
   "outputs": [],
   "source": [
    "def buscaraiz(func,pto_i,ti,err=1e-5):\n",
    "    while abs(pto_i[0])>err:\n",
    "        tip1=ti-(pto_i[0]/pto_i[1])\n",
    "        paso=odeint(func,pto_i,[ti,tip1])\n",
    "        ti,pto_i=tip1,paso[-1]\n",
    "    return ti,pto_i"
   ]
  },
  {
   "cell_type": "code",
   "execution_count": 25,
   "metadata": {
    "collapsed": false
   },
   "outputs": [
    {
     "name": "stderr",
     "output_type": "stream",
     "text": [
      "/home/adriana/anaconda2/lib/python2.7/site-packages/scipy/integrate/odepack.py:218: ODEintWarning: Excess work done on this call (perhaps wrong Dfun type). Run with full_output = 1 to get quantitative information.\n",
      "  warnings.warn(warning_msg, ODEintWarning)\n"
     ]
    }
   ],
   "source": [
    "num=len(t)\n",
    "raices=zeros(num)\n",
    "ptos=zeros((num,2))\n",
    "j=0\n",
    "for i in range(len(t)-1):\n",
    "    if (sol[i][0]*sol[i+1][0])<0:\n",
    "        raices[j],ptos[j]=buscaraiz(osc,sol[i],t[i])\n",
    "        j+=1\n",
    "raices,ptos=raices[0:j],ptos[0:j]\n",
    "#print raices,ptos\n",
    "    \n",
    "    \n",
    "    \n",
    "#ti,pto_i=t[ind],sol[ind]\n",
    "#t_raiz,punto=buscaraiz(osc,pto_i,ti)\n",
    "#print t_raiz,punto"
   ]
  },
  {
   "cell_type": "code",
   "execution_count": 29,
   "metadata": {
    "collapsed": false
   },
   "outputs": [
    {
     "data": {
      "image/png": "[encoded data removed]",
      "text/plain": [
       "<matplotlib.figure.Figure at 0xaa41004c>"
      ]
     },
     "metadata": {},
     "output_type": "display_data"
    }
   ],
   "source": [
    "xlim([-1.1,1.1]),ylim([-1.1,1.1])\n",
    "plot(ptos[100:,0],ptos[100:,1],'x')\n",
    "show()"
   ]
  },
  {
   "cell_type": "code",
   "execution_count": 30,
   "metadata": {
    "collapsed": false
   },
   "outputs": [
    {
     "data": {
      "text/plain": [
       "[<matplotlib.lines.Line2D at 0xaa1f272c>]"
      ]
     },
     "execution_count": 30,
     "metadata": {},
     "output_type": "execute_result"
    },
    {
     "data": {
      "image/png": "[encoded data removed]",
      "text/plain": [
       "<matplotlib.figure.Figure at 0xaa1fa14c>"
      ]
     },
     "metadata": {},
     "output_type": "display_data"
    }
   ],
   "source": [
    "ylim([-1.1,1.1])\n",
    "plot(raices,ptos[:,1],'x')\n",
    "#asintotas de la grafica"
   ]
  },
  {
   "cell_type": "code",
   "execution_count": null,
   "metadata": {
    "collapsed": true
   },
   "outputs": [],
   "source": []
  },
  {
   "cell_type": "code",
   "execution_count": null,
   "metadata": {
    "collapsed": true
   },
   "outputs": [],
   "source": []
  }
 ],
 "metadata": {
  "anaconda-cloud": {},
  "kernelspec": {
   "display_name": "Python [Root]",
   "language": "python",
   "name": "Python [Root]"
  },
  "language_info": {
   "codemirror_mode": {
    "name": "ipython",
    "version": 2
   },
   "file_extension": ".py",
   "mimetype": "text/x-python",
   "name": "python",
   "nbconvert_exporter": "python",
   "pygments_lexer": "ipython2",
   "version": "2.7.12"
  }
 },
 "nbformat": 4,
 "nbformat_minor": 0
}
