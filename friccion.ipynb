{
 "cells": [
  {
   "cell_type": "code",
   "execution_count": 2,
   "metadata": {
    "collapsed": true
   },
   "outputs": [],
   "source": [
    "from pylab import *\n",
    "%matplotlib inline"
   ]
  },
  {
   "cell_type": "code",
   "execution_count": 3,
   "metadata": {
    "collapsed": true
   },
   "outputs": [],
   "source": [
    "def rk4(ec,p_ini,x,args=0,h=0.01):\n",
    "    if (x[1]-x[0])<=5*h:\n",
    "        h=(x[1]-x[0])/10\n",
    "    tiempos = arange(x[0],x[1]+h,h)\n",
    "    sol = zeros((len(tiempos),len(p_ini)))\n",
    "    sol[0,:] = p_ini\n",
    "    if args==0:\n",
    "        for i in xrange (len(tiempos)-1):\n",
    "            k1 = ec(sol[i,:],tiempos[i])\n",
    "            k2 = ec(sol[i,:]+0.5*h*k1,tiempos[i]+0.5*h)\n",
    "            k3 = ec(sol[i,:]+0.5*h*k2,tiempos[i]+0.5*h)\n",
    "            k4 = ec(sol[i,:]+h*k3,tiempos[i]+h)\n",
    "            sol[i+1,:]=sol[i,:]+(h/6.)*(k1+2*k2+2*k3+k4)\n",
    "    else:\n",
    "         for i in xrange (len(tiempos)-1):\n",
    "            k1 = ec(sol[i,:],tiempos[i],args)\n",
    "            k2 = ec(sol[i,:]+0.5*h*k1,tiempos[i]+0.5*h,args)\n",
    "            k3 = ec(sol[i,:]+0.5*h*k2,tiempos[i]+0.5*h,args)\n",
    "            k4 = ec(sol[i,:]+h*k3,tiempos[i]+h,args)\n",
    "            sol[i+1,:]=sol[i,:]+(h/6.)*(k1+2*k2+2*k3+k4)\n",
    "    \n",
    "    return tiempos,sol"
   ]
  },
  {
   "cell_type": "code",
   "execution_count": 4,
   "metadata": {
    "collapsed": true
   },
   "outputs": [],
   "source": [
    "def ec_mov(r_v,t,fricc=0,g=9.8,m=1):\n",
    "    u = sqrt([r_v[2]**2 + r_v[3]**2])\n",
    "    dx = r_v[2]\n",
    "    dy = r_v[3]\n",
    "    if fricc == 0:\n",
    "        dvx,dvy = 0,-(g/m)\n",
    "        #print \"No use un modelo de friccion\"\n",
    "    else:\n",
    "        dvx = - fricc([r_v[2],r_v[3]])[0]\n",
    "        dvy = -(g/m) - fricc([r_v[2],r_v[3]])[1]\n",
    "        #print \"Use un modelo de friccion\"\n",
    "    return array([dx,dy,dvx,dvy])"
   ]
  },
  {
   "cell_type": "code",
   "execution_count": 5,
   "metadata": {
    "collapsed": false
   },
   "outputs": [],
   "source": [
    "def fricc_id(v):\n",
    "    return array([0,0])\n",
    "\n",
    "def fricc_v(v,gamma=0.1):\n",
    "    f_x = gamma*v[0]\n",
    "    f_y = gamma*v[1]\n",
    "    return array([f_x,f_y])\n",
    "\n",
    "def fricc_v2(v,gamma=0.1):\n",
    "    norma_v = sqrt(v[0]**2 + v[1]**2)\n",
    "    f_x = gamma*norma_v*v[0]\n",
    "    f_y = gamma*norma_v*v[1]\n",
    "    return array([f_x,f_y])"
   ]
  },
  {
   "cell_type": "code",
   "execution_count": 6,
   "metadata": {
    "collapsed": false
   },
   "outputs": [
    {
     "data": {
      "image/png": "[encoded data removed]",
      "text/plain": [
       "<matplotlib.figure.Figure at 0xaef707ec>"
      ]
     },
     "metadata": {},
     "output_type": "display_data"
    }
   ],
   "source": [
    "p=[0,0,5,5]\n",
    "t,sol_id=rk4(ec_mov,p,[0,1])\n",
    "t,sol_fv=rk4(ec_mov,p,[0,1],fricc_v)\n",
    "t,sol_fv2=rk4(ec_mov,p,[0,1],fricc_v2)\n",
    "plot(sol_id[:,0],sol_id[:,1])\n",
    "plot(sol_fv[:,0],sol_fv[:,1])\n",
    "plot(sol_fv2[:,0],sol_fv2[:,1])\n",
    "show()"
   ]
  },
  {
   "cell_type": "code",
   "execution_count": 7,
   "metadata": {
    "collapsed": false
   },
   "outputs": [
    {
     "name": "stdout",
     "output_type": "stream",
     "text": [
      "[ 1.   1.   0.  -9.8]\n",
      "[ 1.   1.   0.  -9.8]\n",
      "[ 1.   1.  -0.1 -9.9]\n",
      "[ 1.          1.         -0.14142136 -9.94142136]\n"
     ]
    }
   ],
   "source": [
    "print ec_mov([1,1,1,1],1)\n",
    "print ec_mov([1,1,1,1],1,fricc_id)\n",
    "print ec_mov([1,1,1,1],1,fricc_v)\n",
    "print ec_mov([1,1,1,1],1,fricc_v2)"
   ]
  },
  {
   "cell_type": "code",
   "execution_count": 8,
   "metadata": {
    "collapsed": false
   },
   "outputs": [
    {
     "name": "stdout",
     "output_type": "stream",
     "text": [
      "0.486963819865\n",
      "-0.311193109272\n"
     ]
    }
   ],
   "source": [
    "print sol_fv2[80,:][1]\n",
    "print sol_fv2[-1,:][1]"
   ]
  },
  {
   "cell_type": "code",
   "execution_count": 20,
   "metadata": {
    "collapsed": true
   },
   "outputs": [],
   "source": [
    "def rebote(rv_i,mi_dt):   \n",
    "    dt_b=mi_dt/2\n",
    "    y_izq=rv_i #vector de posicion inicial\n",
    "    t,sol=rk4(ec_mov,rv_i,[0,dt_b],fricc_v)\n",
    "    y_med=sol[-1,:]\n",
    "    while abs(y_izq[1]) > 1e-5:\n",
    "        if y_izq[1]*y_med[1] < 0:\n",
    "            reinicio=y_izq\n",
    "        else:\n",
    "            reinicio=y_med\n",
    "        dt_b=dt_b/2\n",
    "        t,sol=rk4(ec_mov,reinicio,[0,dt_b],fricc_v)\n",
    "        y_izq=reinicio\n",
    "        y_med=sol[-1,:]\n",
    "    y_izq=array([y_izq[0],y_izq[1],y_izq[2],-y_izq[3]])\n",
    "    return y_izq "
   ]
  },
  {
   "cell_type": "code",
   "execution_count": 33,
   "metadata": {
    "collapsed": false
   },
   "outputs": [
    {
     "data": {
      "image/png": "[encoded data removed]",
      "text/plain": [
       "<matplotlib.figure.Figure at 0xaadbce2c>"
      ]
     },
     "metadata": {},
     "output_type": "display_data"
    }
   ],
   "source": [
    "inicio=[0,0,8,5]\n",
    "N=50\n",
    "trayectoria = zeros((N,len(inicio))) #matrices vacias \n",
    "trayectoria[0,:]=array(inicio) #trayectoria[1,:]=array([1,2,3,4]) #se llena la fila 1\n",
    "mi_dt=.1\n",
    "for i in range(N-1):\n",
    "    t,sol_dt=rk4(ec_mov,trayectoria[i,:],[0,mi_dt],fricc_v)\n",
    "    if sol_dt[-1,:][1] < 0 :\n",
    "        punto=rebote(trayectoria[i,:],mi_dt)\n",
    "        trayectoria[i+1,:]= punto\n",
    "    else:\n",
    "        trayectoria[i+1,:]=sol_dt[-1,:]\n",
    "\n",
    "#plot(sol_fv[:,0],sol_fv[:,1])       \n",
    "plot(trayectoria[:,0],trayectoria[:,1],'o-')\n",
    "\n",
    "show()"
   ]
  },
  {
   "cell_type": "code",
   "execution_count": null,
   "metadata": {
    "collapsed": true
   },
   "outputs": [],
   "source": []
  }
 ],
 "metadata": {
  "anaconda-cloud": {},
  "kernelspec": {
   "display_name": "Python [Root]",
   "language": "python",
   "name": "Python [Root]"
  },
  "language_info": {
   "codemirror_mode": {
    "name": "ipython",
    "version": 2
   },
   "file_extension": ".py",
   "mimetype": "text/x-python",
   "name": "python",
   "nbconvert_exporter": "python",
   "pygments_lexer": "ipython2",
   "version": "2.7.12"
  }
 },
 "nbformat": 4,
 "nbformat_minor": 0
}
